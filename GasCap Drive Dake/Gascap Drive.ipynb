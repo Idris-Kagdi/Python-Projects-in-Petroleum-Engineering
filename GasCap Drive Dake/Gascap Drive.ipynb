{
 "cells": [
  {
   "cell_type": "code",
   "execution_count": 1,
   "id": "fadfb915",
   "metadata": {},
   "outputs": [],
   "source": [
    "import numpy as np\n",
    "import pandas as pd\n",
    "import matplotlib.pyplot as plt\n",
    "from scipy.stats import linregress"
   ]
  },
  {
   "cell_type": "markdown",
   "id": "91f9ae8f",
   "metadata": {},
   "source": [
    "# Material Balance for Gascap Drive Reservoirs\n",
    "### (L.P. Dake - Exercise 3.4 page 90 )\n",
    "N = 115 x 10^6 stb\n",
    "\n",
    "Pi = Pb = 3330 psia\n",
    "\n",
    "Assumed m = 0.4"
   ]
  },
  {
   "cell_type": "code",
   "execution_count": 2,
   "id": "a5629862",
   "metadata": {},
   "outputs": [],
   "source": [
    "N = 115*(10**6)\n",
    "ma = 0.4\n",
    "Boi = 1.2511 \n",
    "Rsi = 510\n",
    "Bgi = .00087"
   ]
  },
  {
   "cell_type": "code",
   "execution_count": 3,
   "id": "f928f115",
   "metadata": {},
   "outputs": [],
   "source": [
    "data = pd.read_excel('Data.xlsx')"
   ]
  },
  {
   "cell_type": "code",
   "execution_count": 4,
   "id": "63f46a7f",
   "metadata": {},
   "outputs": [
    {
     "data": {
      "text/html": [
       "<div>\n",
       "<style scoped>\n",
       "    .dataframe tbody tr th:only-of-type {\n",
       "        vertical-align: middle;\n",
       "    }\n",
       "\n",
       "    .dataframe tbody tr th {\n",
       "        vertical-align: top;\n",
       "    }\n",
       "\n",
       "    .dataframe thead th {\n",
       "        text-align: right;\n",
       "    }\n",
       "</style>\n",
       "<table border=\"1\" class=\"dataframe\">\n",
       "  <thead>\n",
       "    <tr style=\"text-align: right;\">\n",
       "      <th></th>\n",
       "      <th>Pressure (Psia)</th>\n",
       "      <th>Np (MMstb)</th>\n",
       "      <th>Rp (scf/stb)</th>\n",
       "      <th>Bo (scf/stb)</th>\n",
       "      <th>Rs (scf/stb)</th>\n",
       "      <th>Bg (rb/scf)</th>\n",
       "    </tr>\n",
       "  </thead>\n",
       "  <tbody>\n",
       "    <tr>\n",
       "      <th>0</th>\n",
       "      <td>3330</td>\n",
       "      <td>NaN</td>\n",
       "      <td>NaN</td>\n",
       "      <td>1.2511</td>\n",
       "      <td>510</td>\n",
       "      <td>0.00087</td>\n",
       "    </tr>\n",
       "    <tr>\n",
       "      <th>1</th>\n",
       "      <td>3150</td>\n",
       "      <td>3.295</td>\n",
       "      <td>1050.0</td>\n",
       "      <td>1.2353</td>\n",
       "      <td>477</td>\n",
       "      <td>0.00092</td>\n",
       "    </tr>\n",
       "    <tr>\n",
       "      <th>2</th>\n",
       "      <td>3000</td>\n",
       "      <td>5.903</td>\n",
       "      <td>1060.0</td>\n",
       "      <td>1.2222</td>\n",
       "      <td>450</td>\n",
       "      <td>0.00096</td>\n",
       "    </tr>\n",
       "    <tr>\n",
       "      <th>3</th>\n",
       "      <td>2850</td>\n",
       "      <td>8.852</td>\n",
       "      <td>1160.0</td>\n",
       "      <td>1.2122</td>\n",
       "      <td>425</td>\n",
       "      <td>0.00101</td>\n",
       "    </tr>\n",
       "    <tr>\n",
       "      <th>4</th>\n",
       "      <td>2700</td>\n",
       "      <td>11.503</td>\n",
       "      <td>1235.0</td>\n",
       "      <td>1.2022</td>\n",
       "      <td>401</td>\n",
       "      <td>0.00107</td>\n",
       "    </tr>\n",
       "    <tr>\n",
       "      <th>5</th>\n",
       "      <td>2550</td>\n",
       "      <td>14.513</td>\n",
       "      <td>1265.0</td>\n",
       "      <td>1.1922</td>\n",
       "      <td>375</td>\n",
       "      <td>0.00113</td>\n",
       "    </tr>\n",
       "    <tr>\n",
       "      <th>6</th>\n",
       "      <td>2400</td>\n",
       "      <td>17.730</td>\n",
       "      <td>1300.0</td>\n",
       "      <td>1.1822</td>\n",
       "      <td>352</td>\n",
       "      <td>0.00120</td>\n",
       "    </tr>\n",
       "  </tbody>\n",
       "</table>\n",
       "</div>"
      ],
      "text/plain": [
       "   Pressure (Psia)  Np (MMstb)  Rp (scf/stb)  Bo (scf/stb)  Rs (scf/stb)  \\\n",
       "0             3330         NaN           NaN        1.2511           510   \n",
       "1             3150       3.295        1050.0        1.2353           477   \n",
       "2             3000       5.903        1060.0        1.2222           450   \n",
       "3             2850       8.852        1160.0        1.2122           425   \n",
       "4             2700      11.503        1235.0        1.2022           401   \n",
       "5             2550      14.513        1265.0        1.1922           375   \n",
       "6             2400      17.730        1300.0        1.1822           352   \n",
       "\n",
       "   Bg (rb/scf)  \n",
       "0      0.00087  \n",
       "1      0.00092  \n",
       "2      0.00096  \n",
       "3      0.00101  \n",
       "4      0.00107  \n",
       "5      0.00113  \n",
       "6      0.00120  "
      ]
     },
     "execution_count": 4,
     "metadata": {},
     "output_type": "execute_result"
    }
   ],
   "source": [
    "data = pd.DataFrame(data)\n",
    "data"
   ]
  },
  {
   "cell_type": "markdown",
   "id": "c4871059",
   "metadata": {},
   "source": [
    "### F = N (Eo + m Eg)\n",
    "Where,\n",
    "\n",
    "F (Underground withdrawal) = Np (Bo + (Rp - Rs)Bg)\n",
    "\n",
    "Eo (Oil and dissolved gas Expansion) = (Bo - Boi) + (Rsi - Rs)Bg\n",
    "\n",
    "Eg (Gascap Gas Expansion) = Boi (Bg/Bgi - 1)\n",
    "\n",
    "Water production and water influx assumed zero\n",
    "\n",
    "Water and Pore compressibility neglected in contrast to highly compressible Gas"
   ]
  },
  {
   "cell_type": "code",
   "execution_count": 5,
   "id": "4f52deff",
   "metadata": {},
   "outputs": [],
   "source": [
    "data = data.iloc[1:,:].reset_index().drop('index', axis = 1)\n",
    "data = data\n",
    "P = data['Pressure (Psia)']\n",
    "Np = data['Np (MMstb)']\n",
    "Rp = data['Rp (scf/stb)']\n",
    "Bo = data['Bo (scf/stb)']\n",
    "Rs = data['Rs (scf/stb)']\n",
    "Bg = data['Bg (rb/scf)']\n",
    "\n",
    "data['F'] = Np*(Bo+(Rp-Rs)*Bg)\n",
    "data['Eo'] = (Bo-Boi)+(Rsi-Rs)*Bg\n",
    "data['Eg'] = Boi*((Bg/Bgi)-1)\n",
    "\n",
    "F = data['F']\n",
    "Eo = data['Eo']\n",
    "Eg = data['Eg']"
   ]
  },
  {
   "cell_type": "code",
   "execution_count": 6,
   "id": "08eaae65",
   "metadata": {},
   "outputs": [
    {
     "data": {
      "text/html": [
       "<div>\n",
       "<style scoped>\n",
       "    .dataframe tbody tr th:only-of-type {\n",
       "        vertical-align: middle;\n",
       "    }\n",
       "\n",
       "    .dataframe tbody tr th {\n",
       "        vertical-align: top;\n",
       "    }\n",
       "\n",
       "    .dataframe thead th {\n",
       "        text-align: right;\n",
       "    }\n",
       "</style>\n",
       "<table border=\"1\" class=\"dataframe\">\n",
       "  <thead>\n",
       "    <tr style=\"text-align: right;\">\n",
       "      <th></th>\n",
       "      <th>Pressure (Psia)</th>\n",
       "      <th>Np (MMstb)</th>\n",
       "      <th>Rp (scf/stb)</th>\n",
       "      <th>Bo (scf/stb)</th>\n",
       "      <th>Rs (scf/stb)</th>\n",
       "      <th>Bg (rb/scf)</th>\n",
       "      <th>F</th>\n",
       "      <th>Eo</th>\n",
       "      <th>Eg</th>\n",
       "    </tr>\n",
       "  </thead>\n",
       "  <tbody>\n",
       "    <tr>\n",
       "      <th>0</th>\n",
       "      <td>3150</td>\n",
       "      <td>3.295</td>\n",
       "      <td>1050.0</td>\n",
       "      <td>1.2353</td>\n",
       "      <td>477</td>\n",
       "      <td>0.00092</td>\n",
       "      <td>5.807306</td>\n",
       "      <td>0.01456</td>\n",
       "      <td>0.071902</td>\n",
       "    </tr>\n",
       "    <tr>\n",
       "      <th>1</th>\n",
       "      <td>3000</td>\n",
       "      <td>5.903</td>\n",
       "      <td>1060.0</td>\n",
       "      <td>1.2222</td>\n",
       "      <td>450</td>\n",
       "      <td>0.00096</td>\n",
       "      <td>10.671443</td>\n",
       "      <td>0.02870</td>\n",
       "      <td>0.129424</td>\n",
       "    </tr>\n",
       "    <tr>\n",
       "      <th>2</th>\n",
       "      <td>2850</td>\n",
       "      <td>8.852</td>\n",
       "      <td>1160.0</td>\n",
       "      <td>1.2122</td>\n",
       "      <td>425</td>\n",
       "      <td>0.00101</td>\n",
       "      <td>17.301677</td>\n",
       "      <td>0.04695</td>\n",
       "      <td>0.201326</td>\n",
       "    </tr>\n",
       "    <tr>\n",
       "      <th>3</th>\n",
       "      <td>2700</td>\n",
       "      <td>11.503</td>\n",
       "      <td>1235.0</td>\n",
       "      <td>1.2022</td>\n",
       "      <td>401</td>\n",
       "      <td>0.00107</td>\n",
       "      <td>24.093954</td>\n",
       "      <td>0.06773</td>\n",
       "      <td>0.287609</td>\n",
       "    </tr>\n",
       "    <tr>\n",
       "      <th>4</th>\n",
       "      <td>2550</td>\n",
       "      <td>14.513</td>\n",
       "      <td>1265.0</td>\n",
       "      <td>1.1922</td>\n",
       "      <td>375</td>\n",
       "      <td>0.00113</td>\n",
       "      <td>31.898123</td>\n",
       "      <td>0.09365</td>\n",
       "      <td>0.373892</td>\n",
       "    </tr>\n",
       "    <tr>\n",
       "      <th>5</th>\n",
       "      <td>2400</td>\n",
       "      <td>17.730</td>\n",
       "      <td>1300.0</td>\n",
       "      <td>1.1822</td>\n",
       "      <td>352</td>\n",
       "      <td>0.00120</td>\n",
       "      <td>41.130054</td>\n",
       "      <td>0.12070</td>\n",
       "      <td>0.474555</td>\n",
       "    </tr>\n",
       "  </tbody>\n",
       "</table>\n",
       "</div>"
      ],
      "text/plain": [
       "   Pressure (Psia)  Np (MMstb)  Rp (scf/stb)  Bo (scf/stb)  Rs (scf/stb)  \\\n",
       "0             3150       3.295        1050.0        1.2353           477   \n",
       "1             3000       5.903        1060.0        1.2222           450   \n",
       "2             2850       8.852        1160.0        1.2122           425   \n",
       "3             2700      11.503        1235.0        1.2022           401   \n",
       "4             2550      14.513        1265.0        1.1922           375   \n",
       "5             2400      17.730        1300.0        1.1822           352   \n",
       "\n",
       "   Bg (rb/scf)          F       Eo        Eg  \n",
       "0      0.00092   5.807306  0.01456  0.071902  \n",
       "1      0.00096  10.671443  0.02870  0.129424  \n",
       "2      0.00101  17.301677  0.04695  0.201326  \n",
       "3      0.00107  24.093954  0.06773  0.287609  \n",
       "4      0.00113  31.898123  0.09365  0.373892  \n",
       "5      0.00120  41.130054  0.12070  0.474555  "
      ]
     },
     "execution_count": 6,
     "metadata": {},
     "output_type": "execute_result"
    }
   ],
   "source": [
    "data"
   ]
  },
  {
   "cell_type": "code",
   "execution_count": 7,
   "id": "573e27bb",
   "metadata": {},
   "outputs": [
    {
     "data": {
      "text/plain": [
       "Text(0.5, 1.0, 'm = 0.4')"
      ]
     },
     "execution_count": 7,
     "metadata": {},
     "output_type": "execute_result"
    },
    {
     "data": {
      "image/png": "[encoded data removed]",
      "text/plain": [
       "<Figure size 576x576 with 1 Axes>"
      ]
     },
     "metadata": {
      "needs_background": "light"
     },
     "output_type": "display_data"
    }
   ],
   "source": [
    "plt.figure(figsize=(8,8))\n",
    "plt.scatter(Eo+ma*Eg, F)\n",
    "plt.xlabel('Eo + m Eg')\n",
    "plt.ylabel('F')\n",
    "slope, intercept, r_value, p_value, std_err = linregress(Eo+ma*Eg, F)\n",
    "plt.plot(Eo+ma*Eg, slope*(Eo+ma*Eg)+intercept)\n",
    "plt.title(f'm = {ma}')"
   ]
  },
  {
   "cell_type": "code",
   "execution_count": 8,
   "id": "c59e99b4",
   "metadata": {},
   "outputs": [
    {
     "data": {
      "text/plain": [
       "(131.43722753924322, 0.1787204077146889, 0.9998650345269229)"
      ]
     },
     "execution_count": 8,
     "metadata": {},
     "output_type": "execute_result"
    }
   ],
   "source": [
    "(slope, intercept, r_value)"
   ]
  },
  {
   "cell_type": "raw",
   "id": "c9044922",
   "metadata": {},
   "source": [
    "So, the intercept is NOT zero and slope is NOT 'N' (i.e. 115 x 10^6) for our given assumed m = 0.4.\n",
    "Now, let's compare the plot for different values of m (.3, .4, .5, .6, .7) and also the exact line with intercept=0 and slope=N"
   ]
  },
  {
   "cell_type": "code",
   "execution_count": 9,
   "id": "f4d8011f",
   "metadata": {},
   "outputs": [
    {
     "data": {
      "text/plain": [
       "<matplotlib.legend.Legend at 0x21b0a3d9fd0>"
      ]
     },
     "execution_count": 9,
     "metadata": {},
     "output_type": "execute_result"
    },
    {
     "data": {
      "image/png": "[encoded data removed]",
      "text/plain": [
       "<Figure size 720x720 with 1 Axes>"
      ]
     },
     "metadata": {
      "needs_background": "light"
     },
     "output_type": "display_data"
    }
   ],
   "source": [
    "slope1, intercept1, r_value1, p_value1, std_err1 = linregress(Eo+.3*Eg, F)\n",
    "slope2, intercept2, r_value2, p_value2, std_err2 = linregress(Eo+.4*Eg, F)\n",
    "slope3, intercept3, r_value3, p_value3, std_err3 = linregress(Eo+.5*Eg, F)\n",
    "slope4, intercept4, r_value4, p_value4, std_err4 = linregress(Eo+.6*Eg, F)\n",
    "slope5, intercept5, r_value5, p_value5, std_err5 = linregress(Eo+.7*Eg, F)\n",
    "plt.figure(figsize=(10,10))\n",
    "\n",
    "plt.scatter(Eo+.3*Eg, F, color='r', label=f'm = 0.3, slope = {slope1:.2f}, intercept = {intercept1:.2f}')\n",
    "plt.scatter(Eo+.4*Eg, F, color='b', label=f'm = 0.4, slope = {slope2:.2f}, intercept = {intercept2:.2f}')\n",
    "plt.scatter(Eo+.5*Eg, F, color='k', label=f'm = 0.5, slope = {slope3:.2f}, intercept = {intercept3:.2f}')\n",
    "plt.scatter(Eo+.6*Eg, F, color='m', label=f'm = 0.6, slope = {slope4:.2f}, intercept = {intercept4:.2f}')\n",
    "plt.scatter(Eo+.7*Eg, F, color='g', label=f'm = 0.7, slope = {slope5:.2f}, intercept = {intercept5:.2f}')\n",
    "plt.plot(np.arange(0,.55,.1), N*(np.arange(0,.55,.1))/(10**6))\n",
    "plt.xlabel('Eo + m Eg')\n",
    "plt.ylabel('F')\n",
    "plt.legend()"
   ]
  },
  {
   "cell_type": "markdown",
   "id": "4bc3c6fd",
   "metadata": {},
   "source": [
    "### Since, 'm = 0.5' plot is closest to the actual line and others have deviated from the actual trend, so it confirms our case for Gascap size (m) = 0.5. However, m value can be regressed further to fit our actual plot to a more refined m value.\n",
    "Now, N(Eo + m Eg) = F\n",
    "\n",
    "So, m = (F/N - Eo)/Eg\n",
    "\n",
    "NOTE: There will as many m values as there are data points (i.e. 6 in our case). So, m can be taken as the mean (for minimizing square errors, but median must be taken if minimizing absolute errors).\n",
    "\n",
    "Another method is the univariate regression. Since, Eo, Eg and F are varying, above equation can be written as:\n",
    "\n",
    "Eoi + m Egi = Fi/N  (For i-th data point)\n",
    "\n",
    "Now, minimizing the sum of the square of this equation by taking derivative w.r.t. m, gives:\n",
    "\n",
    "m = sum(Egi (Fi/N - Eoi))/sum(Egi^2)\n"
   ]
  },
  {
   "cell_type": "code",
   "execution_count": 10,
   "id": "0570f68e",
   "metadata": {},
   "outputs": [],
   "source": [
    "m = (((F/N/(10**-6))-Eo)/Eg).mean()"
   ]
  },
  {
   "cell_type": "code",
   "execution_count": 11,
   "id": "0c3b1d11",
   "metadata": {},
   "outputs": [
    {
     "data": {
      "text/plain": [
       "(114.41603027259393, 0.08183538900923892, 0.9998638469810511)"
      ]
     },
     "execution_count": 11,
     "metadata": {},
     "output_type": "execute_result"
    }
   ],
   "source": [
    "slope6, intercept6, r_value6, p_value6, std_err6 = linregress(Eo+m*Eg, F)\n",
    "(slope6, intercept6, r_value6)"
   ]
  },
  {
   "cell_type": "code",
   "execution_count": 12,
   "id": "2e676298",
   "metadata": {},
   "outputs": [],
   "source": [
    "m = (Eg*(F*(10**6)/N-Eo)).sum()/(Eg**2).sum()"
   ]
  },
  {
   "cell_type": "code",
   "execution_count": 13,
   "id": "6af2850f",
   "metadata": {},
   "outputs": [
    {
     "data": {
      "text/plain": [
       "(114.66309732076535, 0.0832406639981329, 0.9998638873524591)"
      ]
     },
     "execution_count": 13,
     "metadata": {},
     "output_type": "execute_result"
    }
   ],
   "source": [
    "slope7, intercept7, r_value7, p_value7, std_err7 = linregress(Eo+m*Eg, F)\n",
    "(slope7, intercept7, r_value7)"
   ]
  },
  {
   "cell_type": "code",
   "execution_count": null,
   "id": "d0e05e5a",
   "metadata": {},
   "outputs": [],
   "source": []
  },
  {
   "cell_type": "code",
   "execution_count": null,
   "id": "55a6118d",
   "metadata": {},
   "outputs": [],
   "source": []
  }
 ],
 "metadata": {
  "kernelspec": {
   "display_name": "Python 3 (ipykernel)",
   "language": "python",
   "name": "python3"
  },
  "language_info": {
   "codemirror_mode": {
    "name": "ipython",
    "version": 3
   },
   "file_extension": ".py",
   "mimetype": "text/x-python",
   "name": "python",
   "nbconvert_exporter": "python",
   "pygments_lexer": "ipython3",
   "version": "3.9.12"
  }
 },
 "nbformat": 4,
 "nbformat_minor": 5
}
